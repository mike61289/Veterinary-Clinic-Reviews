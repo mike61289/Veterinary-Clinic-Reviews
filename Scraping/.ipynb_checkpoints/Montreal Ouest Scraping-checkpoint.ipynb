{
 "cells": [
  {
   "cell_type": "code",
   "execution_count": 1,
   "metadata": {},
   "outputs": [],
   "source": [
    "#https://towardsdatascience.com/scraping-google-maps-reviews-in-python-2b153c655fc2\n",
    "\n",
    "from selenium import webdriver\n",
    "from selenium.webdriver.common.by import By\n",
    "from selenium.webdriver.support.ui import WebDriverWait\n",
    "from selenium.webdriver.support import expected_conditions as EC\n",
    "from selenium.webdriver.chrome.options import Options\n",
    "from selenium.webdriver.common.action_chains import ActionChains\n",
    "import time\n",
    "from bs4 import BeautifulSoup\n",
    "import pandas as pd"
   ]
  },
  {
   "cell_type": "code",
   "execution_count": 2,
   "metadata": {},
   "outputs": [],
   "source": [
    "#Initialize webdriver\n",
    "options = Options()\n",
    "options.add_argument('--lang=en')\n",
    "driver = webdriver.Chrome('/Users/Coding/Downloads/chromedriver')"
   ]
  },
  {
   "cell_type": "code",
   "execution_count": 3,
   "metadata": {},
   "outputs": [],
   "source": [
    "mont_west = 'https://www.google.com/maps/place/Clinique+Vétérinaire+Montréal-Ouest/@45.4600823,-73.6810196,14z/data=!4m9!1m2!2m1!1svet+near+Montréal-Ouest,+QC!3m5!1s0x4cc91728eafa6d03:0x2bfec65a6ad7506!8m2!3d45.4531758!4d-73.6464613!15sChx2ZXQgbmVhciBNb250csOpYWwtT3Vlc3QsIFFDkgEMdmV0ZXJpbmFyaWFu'\n",
    "driver.get(mont_west)"
   ]
  },
  {
   "cell_type": "code",
   "execution_count": 4,
   "metadata": {},
   "outputs": [],
   "source": [
    "response = BeautifulSoup(driver.page_source, 'html.parser')\n",
    "rlist = response.find_all('div', class_='mapsConsumerUiSubviewSectionReview__section-review-content')"
   ]
  },
  {
   "cell_type": "code",
   "execution_count": 5,
   "metadata": {},
   "outputs": [],
   "source": [
    "content = driver.page_source"
   ]
  },
  {
   "cell_type": "code",
   "execution_count": 6,
   "metadata": {},
   "outputs": [],
   "source": [
    "dates = []\n",
    "names = []\n",
    "reviews = []\n",
    "ratings = []\n",
    "\n",
    "soup = BeautifulSoup(content)"
   ]
  },
  {
   "cell_type": "code",
   "execution_count": 7,
   "metadata": {},
   "outputs": [],
   "source": [
    "for r in rlist:\n",
    "    rel_date = r.find('span', class_='section-review-publish-date').text\n",
    "    name = r.find('div', class_='section-review-title').find('span').text\n",
    "    try:\n",
    "        review_text = r.find('span', class_='section-review-text').text\n",
    "    except Exception:\n",
    "        review_text = None\n",
    "    stars = r.find('span', class_='section-review-stars')['aria-label']\n",
    "    dates.append(rel_date)\n",
    "    names.append(name)\n",
    "    reviews.append(review_text)\n",
    "    ratings.append(stars)"
   ]
  },
  {
   "cell_type": "code",
   "execution_count": 8,
   "metadata": {},
   "outputs": [
    {
     "data": {
      "text/html": [
       "<div>\n",
       "<style scoped>\n",
       "    .dataframe tbody tr th:only-of-type {\n",
       "        vertical-align: middle;\n",
       "    }\n",
       "\n",
       "    .dataframe tbody tr th {\n",
       "        vertical-align: top;\n",
       "    }\n",
       "\n",
       "    .dataframe thead th {\n",
       "        text-align: right;\n",
       "    }\n",
       "</style>\n",
       "<table border=\"1\" class=\"dataframe\">\n",
       "  <thead>\n",
       "    <tr style=\"text-align: right;\">\n",
       "      <th></th>\n",
       "      <th>Date</th>\n",
       "      <th>Name</th>\n",
       "      <th>Review</th>\n",
       "      <th>Rating</th>\n",
       "    </tr>\n",
       "  </thead>\n",
       "  <tbody>\n",
       "    <tr>\n",
       "      <th>0</th>\n",
       "      <td>2 weeks ago</td>\n",
       "      <td>Christyn Greczkowski</td>\n",
       "      <td></td>\n",
       "      <td>5 stars</td>\n",
       "    </tr>\n",
       "    <tr>\n",
       "      <th>1</th>\n",
       "      <td>a month ago</td>\n",
       "      <td>Christian Fritschi</td>\n",
       "      <td></td>\n",
       "      <td>5 stars</td>\n",
       "    </tr>\n",
       "    <tr>\n",
       "      <th>2</th>\n",
       "      <td>a month ago</td>\n",
       "      <td>Carlos Ceja cazares</td>\n",
       "      <td>Excellent service, all recommendations and tre...</td>\n",
       "      <td>5 stars</td>\n",
       "    </tr>\n",
       "    <tr>\n",
       "      <th>3</th>\n",
       "      <td>a month ago</td>\n",
       "      <td>Cindy Ibberson</td>\n",
       "      <td>Dr Bernier has the experience, expertise and k...</td>\n",
       "      <td>5 stars</td>\n",
       "    </tr>\n",
       "    <tr>\n",
       "      <th>4</th>\n",
       "      <td>2 months ago</td>\n",
       "      <td>Richard Fuller</td>\n",
       "      <td>We had to bring our dog into the UK which was ...</td>\n",
       "      <td>5 stars</td>\n",
       "    </tr>\n",
       "    <tr>\n",
       "      <th>...</th>\n",
       "      <td>...</td>\n",
       "      <td>...</td>\n",
       "      <td>...</td>\n",
       "      <td>...</td>\n",
       "    </tr>\n",
       "    <tr>\n",
       "      <th>63</th>\n",
       "      <td>4 years ago</td>\n",
       "      <td>Kent Conover</td>\n",
       "      <td></td>\n",
       "      <td>4 stars</td>\n",
       "    </tr>\n",
       "    <tr>\n",
       "      <th>64</th>\n",
       "      <td>4 years ago</td>\n",
       "      <td>Annie Perreault</td>\n",
       "      <td></td>\n",
       "      <td>5 stars</td>\n",
       "    </tr>\n",
       "    <tr>\n",
       "      <th>65</th>\n",
       "      <td>4 years ago</td>\n",
       "      <td>Matthew Ward</td>\n",
       "      <td></td>\n",
       "      <td>5 stars</td>\n",
       "    </tr>\n",
       "    <tr>\n",
       "      <th>66</th>\n",
       "      <td>4 years ago</td>\n",
       "      <td>Serge Bouharevich</td>\n",
       "      <td>Dr. Bernier and his staff are responsible and ...</td>\n",
       "      <td>5 stars</td>\n",
       "    </tr>\n",
       "    <tr>\n",
       "      <th>67</th>\n",
       "      <td>5 years ago</td>\n",
       "      <td>Mila Araujo</td>\n",
       "      <td>Dr Bernier is extremely caring, as well as the...</td>\n",
       "      <td>5 stars</td>\n",
       "    </tr>\n",
       "  </tbody>\n",
       "</table>\n",
       "<p>68 rows × 4 columns</p>\n",
       "</div>"
      ],
      "text/plain": [
       "            Date                  Name  \\\n",
       "0    2 weeks ago  Christyn Greczkowski   \n",
       "1    a month ago    Christian Fritschi   \n",
       "2    a month ago   Carlos Ceja cazares   \n",
       "3    a month ago        Cindy Ibberson   \n",
       "4   2 months ago        Richard Fuller   \n",
       "..           ...                   ...   \n",
       "63   4 years ago          Kent Conover   \n",
       "64   4 years ago       Annie Perreault   \n",
       "65   4 years ago          Matthew Ward   \n",
       "66   4 years ago     Serge Bouharevich   \n",
       "67   5 years ago           Mila Araujo   \n",
       "\n",
       "                                               Review     Rating  \n",
       "0                                                       5 stars   \n",
       "1                                                       5 stars   \n",
       "2   Excellent service, all recommendations and tre...   5 stars   \n",
       "3   Dr Bernier has the experience, expertise and k...   5 stars   \n",
       "4   We had to bring our dog into the UK which was ...   5 stars   \n",
       "..                                                ...        ...  \n",
       "63                                                      4 stars   \n",
       "64                                                      5 stars   \n",
       "65                                                      5 stars   \n",
       "66  Dr. Bernier and his staff are responsible and ...   5 stars   \n",
       "67  Dr Bernier is extremely caring, as well as the...   5 stars   \n",
       "\n",
       "[68 rows x 4 columns]"
      ]
     },
     "execution_count": 8,
     "metadata": {},
     "output_type": "execute_result"
    }
   ],
   "source": [
    "df_mont_west = pd.DataFrame({'Date' : dates,\n",
    "                   'Name' : names,\n",
    "                   'Review' : reviews,\n",
    "                   'Rating' : ratings}\n",
    "                 ) \n",
    "df_mont_west"
   ]
  },
  {
   "cell_type": "code",
   "execution_count": null,
   "metadata": {},
   "outputs": [],
   "source": []
  }
 ],
 "metadata": {
  "kernelspec": {
   "display_name": "Python 3",
   "language": "python",
   "name": "python3"
  },
  "language_info": {
   "codemirror_mode": {
    "name": "ipython",
    "version": 3
   },
   "file_extension": ".py",
   "mimetype": "text/x-python",
   "name": "python",
   "nbconvert_exporter": "python",
   "pygments_lexer": "ipython3",
   "version": "3.9.2"
  }
 },
 "nbformat": 4,
 "nbformat_minor": 4
}
