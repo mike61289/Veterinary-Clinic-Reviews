{
 "cells": [
  {
   "cell_type": "code",
   "execution_count": 1,
   "metadata": {},
   "outputs": [],
   "source": [
    "#https://towardsdatascience.com/scraping-google-maps-reviews-in-python-2b153c655fc2\n",
    "\n",
    "from selenium import webdriver\n",
    "from selenium.webdriver.common.by import By\n",
    "from selenium.webdriver.support.ui import WebDriverWait\n",
    "from selenium.webdriver.support import expected_conditions as EC\n",
    "from selenium.webdriver.chrome.options import Options\n",
    "from selenium.webdriver.common.action_chains import ActionChains\n",
    "import time\n",
    "from bs4 import BeautifulSoup\n",
    "import pandas as pd"
   ]
  },
  {
   "cell_type": "code",
   "execution_count": 2,
   "metadata": {},
   "outputs": [],
   "source": [
    "#Initialize webdriver\n",
    "options = Options()\n",
    "options.add_argument('--lang=en')\n",
    "driver = webdriver.Chrome('/Users/Coding/Downloads/chromedriver')"
   ]
  },
  {
   "cell_type": "code",
   "execution_count": 3,
   "metadata": {},
   "outputs": [],
   "source": [
    "passionimo = 'https://www.google.com/maps/place/Passionimo+Veterinary+Hospital+of+Montreal/@45.4778201,-73.6033725,17z/data=!3m1!4b1!4m5!3m4!1s0x4cc910a6c1dca8b1:0xac1e90ab64e4396d!8m2!3d45.477813!4d-73.6011902'\n",
    "driver.get(passionimo)"
   ]
  },
  {
   "cell_type": "code",
   "execution_count": 4,
   "metadata": {},
   "outputs": [],
   "source": [
    "response = BeautifulSoup(driver.page_source, 'html.parser')\n",
    "rlist = response.find_all('div', class_='mapsConsumerUiSubviewSectionReview__section-review-content')"
   ]
  },
  {
   "cell_type": "code",
   "execution_count": 5,
   "metadata": {},
   "outputs": [],
   "source": [
    "content = driver.page_source"
   ]
  },
  {
   "cell_type": "code",
   "execution_count": 6,
   "metadata": {},
   "outputs": [],
   "source": [
    "dates = []\n",
    "names = []\n",
    "reviews = []\n",
    "ratings = []\n",
    "\n",
    "soup = BeautifulSoup(content)"
   ]
  },
  {
   "cell_type": "code",
   "execution_count": 7,
   "metadata": {},
   "outputs": [],
   "source": [
    "for r in rlist:\n",
    "    rel_date = r.find('span', class_='section-review-publish-date').text\n",
    "    name = r.find('div', class_='section-review-title').find('span').text\n",
    "    try:\n",
    "        review_text = r.find('span', class_='section-review-text').text\n",
    "    except Exception:\n",
    "        review_text = None\n",
    "    stars = r.find('span', class_='section-review-stars')['aria-label']\n",
    "    dates.append(rel_date)\n",
    "    names.append(name)\n",
    "    reviews.append(review_text)\n",
    "    ratings.append(stars)"
   ]
  },
  {
   "cell_type": "code",
   "execution_count": 8,
   "metadata": {},
   "outputs": [
    {
     "data": {
      "text/html": [
       "<div>\n",
       "<style scoped>\n",
       "    .dataframe tbody tr th:only-of-type {\n",
       "        vertical-align: middle;\n",
       "    }\n",
       "\n",
       "    .dataframe tbody tr th {\n",
       "        vertical-align: top;\n",
       "    }\n",
       "\n",
       "    .dataframe thead th {\n",
       "        text-align: right;\n",
       "    }\n",
       "</style>\n",
       "<table border=\"1\" class=\"dataframe\">\n",
       "  <thead>\n",
       "    <tr style=\"text-align: right;\">\n",
       "      <th></th>\n",
       "      <th>Date</th>\n",
       "      <th>Name</th>\n",
       "      <th>Review</th>\n",
       "      <th>Rating</th>\n",
       "    </tr>\n",
       "  </thead>\n",
       "  <tbody>\n",
       "    <tr>\n",
       "      <th>0</th>\n",
       "      <td>6 days ago</td>\n",
       "      <td>Maude R. V.</td>\n",
       "      <td></td>\n",
       "      <td>5 stars</td>\n",
       "    </tr>\n",
       "    <tr>\n",
       "      <th>1</th>\n",
       "      <td>a week ago</td>\n",
       "      <td>amanda faigal</td>\n",
       "      <td>I've been a few times now for my guineapigs an...</td>\n",
       "      <td>5 stars</td>\n",
       "    </tr>\n",
       "    <tr>\n",
       "      <th>2</th>\n",
       "      <td>4 weeks ago</td>\n",
       "      <td>Sophie A. D.</td>\n",
       "      <td>(Translated by Google) I would like to thank t...</td>\n",
       "      <td>5 stars</td>\n",
       "    </tr>\n",
       "    <tr>\n",
       "      <th>3</th>\n",
       "      <td>a month ago</td>\n",
       "      <td>Yvonne Gardner</td>\n",
       "      <td>Great service. Friendly helpful staff.</td>\n",
       "      <td>5 stars</td>\n",
       "    </tr>\n",
       "    <tr>\n",
       "      <th>4</th>\n",
       "      <td>a month ago</td>\n",
       "      <td>nancy boudrault</td>\n",
       "      <td>(Translated by Google) Very professional servi...</td>\n",
       "      <td>5 stars</td>\n",
       "    </tr>\n",
       "    <tr>\n",
       "      <th>...</th>\n",
       "      <td>...</td>\n",
       "      <td>...</td>\n",
       "      <td>...</td>\n",
       "      <td>...</td>\n",
       "    </tr>\n",
       "    <tr>\n",
       "      <th>260</th>\n",
       "      <td>4 years ago</td>\n",
       "      <td>Suzie Brouillard</td>\n",
       "      <td>(Translated by Google) I am rather sad. I like...</td>\n",
       "      <td>3 stars</td>\n",
       "    </tr>\n",
       "    <tr>\n",
       "      <th>261</th>\n",
       "      <td>4 years ago</td>\n",
       "      <td>Atef Sdiri</td>\n",
       "      <td></td>\n",
       "      <td>1 star</td>\n",
       "    </tr>\n",
       "    <tr>\n",
       "      <th>262</th>\n",
       "      <td>4 years ago</td>\n",
       "      <td>Daniel Montpetit</td>\n",
       "      <td>(Translated by Google) Great team of veterinar...</td>\n",
       "      <td>5 stars</td>\n",
       "    </tr>\n",
       "    <tr>\n",
       "      <th>263</th>\n",
       "      <td>4 years ago</td>\n",
       "      <td>Michelle Franklin</td>\n",
       "      <td>Excellent service. We've taken all our pets to...</td>\n",
       "      <td>5 stars</td>\n",
       "    </tr>\n",
       "    <tr>\n",
       "      <th>264</th>\n",
       "      <td>6 years ago</td>\n",
       "      <td>DIego CAstro</td>\n",
       "      <td></td>\n",
       "      <td>5 stars</td>\n",
       "    </tr>\n",
       "  </tbody>\n",
       "</table>\n",
       "<p>265 rows × 4 columns</p>\n",
       "</div>"
      ],
      "text/plain": [
       "            Date               Name  \\\n",
       "0     6 days ago        Maude R. V.   \n",
       "1     a week ago      amanda faigal   \n",
       "2    4 weeks ago       Sophie A. D.   \n",
       "3    a month ago     Yvonne Gardner   \n",
       "4    a month ago    nancy boudrault   \n",
       "..           ...                ...   \n",
       "260  4 years ago   Suzie Brouillard   \n",
       "261  4 years ago         Atef Sdiri   \n",
       "262  4 years ago   Daniel Montpetit   \n",
       "263  4 years ago  Michelle Franklin   \n",
       "264  6 years ago       DIego CAstro   \n",
       "\n",
       "                                                Review     Rating  \n",
       "0                                                        5 stars   \n",
       "1    I've been a few times now for my guineapigs an...   5 stars   \n",
       "2    (Translated by Google) I would like to thank t...   5 stars   \n",
       "3               Great service. Friendly helpful staff.   5 stars   \n",
       "4    (Translated by Google) Very professional servi...   5 stars   \n",
       "..                                                 ...        ...  \n",
       "260  (Translated by Google) I am rather sad. I like...   3 stars   \n",
       "261                                                       1 star   \n",
       "262  (Translated by Google) Great team of veterinar...   5 stars   \n",
       "263  Excellent service. We've taken all our pets to...   5 stars   \n",
       "264                                                      5 stars   \n",
       "\n",
       "[265 rows x 4 columns]"
      ]
     },
     "execution_count": 8,
     "metadata": {},
     "output_type": "execute_result"
    }
   ],
   "source": [
    "df_passionimo = pd.DataFrame({'Date' : dates,\n",
    "                   'Name' : names,\n",
    "                   'Review' : reviews,\n",
    "                   'Rating' : ratings}\n",
    "                 ) \n",
    "df_passionimo"
   ]
  },
  {
   "cell_type": "code",
   "execution_count": null,
   "metadata": {},
   "outputs": [],
   "source": []
  }
 ],
 "metadata": {
  "kernelspec": {
   "display_name": "Python 3",
   "language": "python",
   "name": "python3"
  },
  "language_info": {
   "codemirror_mode": {
    "name": "ipython",
    "version": 3
   },
   "file_extension": ".py",
   "mimetype": "text/x-python",
   "name": "python",
   "nbconvert_exporter": "python",
   "pygments_lexer": "ipython3",
   "version": "3.9.2"
  }
 },
 "nbformat": 4,
 "nbformat_minor": 4
}
