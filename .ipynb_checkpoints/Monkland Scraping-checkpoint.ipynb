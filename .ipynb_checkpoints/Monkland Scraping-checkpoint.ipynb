{
 "cells": [
  {
   "cell_type": "code",
   "execution_count": 1,
   "metadata": {},
   "outputs": [],
   "source": [
    "#https://towardsdatascience.com/scraping-google-maps-reviews-in-python-2b153c655fc2\n",
    "\n",
    "from selenium import webdriver\n",
    "from selenium.webdriver.common.by import By\n",
    "from selenium.webdriver.support.ui import WebDriverWait\n",
    "from selenium.webdriver.support import expected_conditions as EC\n",
    "from selenium.webdriver.chrome.options import Options\n",
    "from selenium.webdriver.common.action_chains import ActionChains\n",
    "import time\n",
    "from bs4 import BeautifulSoup\n",
    "import pandas as pd"
   ]
  },
  {
   "cell_type": "code",
   "execution_count": 2,
   "metadata": {},
   "outputs": [],
   "source": [
    "#Initialize webdriver\n",
    "options = Options()\n",
    "options.add_argument('--lang=en')\n",
    "driver = webdriver.Chrome('/Users/Coding/Downloads/chromedriver')"
   ]
  },
  {
   "cell_type": "code",
   "execution_count": 3,
   "metadata": {},
   "outputs": [],
   "source": [
    "monkland = 'https://www.google.com/maps/place/Clinique+Vétérinaire+Monkland/@45.4695317,-73.6309441,17z/data=!4m7!3m6!1s0x4cc9174b0994d9b7:0x3d668fb0de955ec8!8m2!3d45.4694741!4d-73.6286231!9m1!1b1'\n",
    "driver.get(monkland)"
   ]
  },
  {
   "cell_type": "code",
   "execution_count": 4,
   "metadata": {},
   "outputs": [],
   "source": [
    "response = BeautifulSoup(driver.page_source, 'html.parser')\n",
    "rlist = response.find_all('div', class_='mapsConsumerUiSubviewSectionReview__section-review-content')"
   ]
  },
  {
   "cell_type": "code",
   "execution_count": 5,
   "metadata": {},
   "outputs": [],
   "source": [
    "content = driver.page_source"
   ]
  },
  {
   "cell_type": "code",
   "execution_count": 6,
   "metadata": {},
   "outputs": [],
   "source": [
    "dates = []\n",
    "names = []\n",
    "reviews = []\n",
    "ratings = []\n",
    "\n",
    "soup = BeautifulSoup(content)"
   ]
  },
  {
   "cell_type": "code",
   "execution_count": 7,
   "metadata": {},
   "outputs": [],
   "source": [
    "for r in rlist:\n",
    "    rel_date = r.find('span', class_='section-review-publish-date').text\n",
    "    name = r.find('div', class_='section-review-title').find('span').text\n",
    "    try:\n",
    "        review_text = r.find('span', class_='section-review-text').text\n",
    "    except Exception:\n",
    "        review_text = None\n",
    "    stars = r.find('span', class_='section-review-stars')['aria-label']\n",
    "    dates.append(rel_date)\n",
    "    names.append(name)\n",
    "    reviews.append(review_text)\n",
    "    ratings.append(stars)"
   ]
  },
  {
   "cell_type": "code",
   "execution_count": 8,
   "metadata": {},
   "outputs": [
    {
     "data": {
      "text/html": [
       "<div>\n",
       "<style scoped>\n",
       "    .dataframe tbody tr th:only-of-type {\n",
       "        vertical-align: middle;\n",
       "    }\n",
       "\n",
       "    .dataframe tbody tr th {\n",
       "        vertical-align: top;\n",
       "    }\n",
       "\n",
       "    .dataframe thead th {\n",
       "        text-align: right;\n",
       "    }\n",
       "</style>\n",
       "<table border=\"1\" class=\"dataframe\">\n",
       "  <thead>\n",
       "    <tr style=\"text-align: right;\">\n",
       "      <th></th>\n",
       "      <th>Date</th>\n",
       "      <th>Name</th>\n",
       "      <th>Review</th>\n",
       "      <th>Rating</th>\n",
       "    </tr>\n",
       "  </thead>\n",
       "  <tbody>\n",
       "    <tr>\n",
       "      <th>0</th>\n",
       "      <td>a day ago</td>\n",
       "      <td>tom Morris</td>\n",
       "      <td>300 dollars  to put my cat down,absolutely app...</td>\n",
       "      <td>1 star</td>\n",
       "    </tr>\n",
       "    <tr>\n",
       "      <th>1</th>\n",
       "      <td>5 days ago</td>\n",
       "      <td>julie pinard</td>\n",
       "      <td>Je vais à cette clinique depuis son ouverture ...</td>\n",
       "      <td>5 stars</td>\n",
       "    </tr>\n",
       "    <tr>\n",
       "      <th>2</th>\n",
       "      <td>a week ago</td>\n",
       "      <td>Ben M</td>\n",
       "      <td></td>\n",
       "      <td>5 stars</td>\n",
       "    </tr>\n",
       "    <tr>\n",
       "      <th>3</th>\n",
       "      <td>2 weeks ago</td>\n",
       "      <td>Bryn Williams-Jones</td>\n",
       "      <td>Excellent customer service, quick appointments...</td>\n",
       "      <td>5 stars</td>\n",
       "    </tr>\n",
       "    <tr>\n",
       "      <th>4</th>\n",
       "      <td>3 weeks ago</td>\n",
       "      <td>Hugo Tardy</td>\n",
       "      <td>(Translated by Google) My dog ​​has been a pat...</td>\n",
       "      <td>5 stars</td>\n",
       "    </tr>\n",
       "    <tr>\n",
       "      <th>...</th>\n",
       "      <td>...</td>\n",
       "      <td>...</td>\n",
       "      <td>...</td>\n",
       "      <td>...</td>\n",
       "    </tr>\n",
       "    <tr>\n",
       "      <th>195</th>\n",
       "      <td>4 years ago</td>\n",
       "      <td>Graeme Bent</td>\n",
       "      <td>A little pricey but professional!</td>\n",
       "      <td>4 stars</td>\n",
       "    </tr>\n",
       "    <tr>\n",
       "      <th>196</th>\n",
       "      <td>4 years ago</td>\n",
       "      <td>Cristian M</td>\n",
       "      <td>Professional staff, a little bit expensive but...</td>\n",
       "      <td>4 stars</td>\n",
       "    </tr>\n",
       "    <tr>\n",
       "      <th>197</th>\n",
       "      <td>5 years ago</td>\n",
       "      <td>Jeff Langsner</td>\n",
       "      <td>First thing you'll notice is that it's nice in...</td>\n",
       "      <td>5 stars</td>\n",
       "    </tr>\n",
       "    <tr>\n",
       "      <th>198</th>\n",
       "      <td>5 years ago</td>\n",
       "      <td>Charles Tatossian</td>\n",
       "      <td>Great veterinarian. Easy to book an appointment.</td>\n",
       "      <td>5 stars</td>\n",
       "    </tr>\n",
       "    <tr>\n",
       "      <th>199</th>\n",
       "      <td>5 years ago</td>\n",
       "      <td>MariusDanAlex</td>\n",
       "      <td>(Translated by Google) Dre's professional advi...</td>\n",
       "      <td>5 stars</td>\n",
       "    </tr>\n",
       "  </tbody>\n",
       "</table>\n",
       "<p>200 rows × 4 columns</p>\n",
       "</div>"
      ],
      "text/plain": [
       "            Date                 Name  \\\n",
       "0      a day ago           tom Morris   \n",
       "1     5 days ago         julie pinard   \n",
       "2     a week ago                Ben M   \n",
       "3    2 weeks ago  Bryn Williams-Jones   \n",
       "4    3 weeks ago           Hugo Tardy   \n",
       "..           ...                  ...   \n",
       "195  4 years ago          Graeme Bent   \n",
       "196  4 years ago           Cristian M   \n",
       "197  5 years ago        Jeff Langsner   \n",
       "198  5 years ago    Charles Tatossian   \n",
       "199  5 years ago        MariusDanAlex   \n",
       "\n",
       "                                                Review     Rating  \n",
       "0    300 dollars  to put my cat down,absolutely app...    1 star   \n",
       "1    Je vais à cette clinique depuis son ouverture ...   5 stars   \n",
       "2                                                        5 stars   \n",
       "3    Excellent customer service, quick appointments...   5 stars   \n",
       "4    (Translated by Google) My dog ​​has been a pat...   5 stars   \n",
       "..                                                 ...        ...  \n",
       "195                  A little pricey but professional!   4 stars   \n",
       "196  Professional staff, a little bit expensive but...   4 stars   \n",
       "197  First thing you'll notice is that it's nice in...   5 stars   \n",
       "198   Great veterinarian. Easy to book an appointment.   5 stars   \n",
       "199  (Translated by Google) Dre's professional advi...   5 stars   \n",
       "\n",
       "[200 rows x 4 columns]"
      ]
     },
     "execution_count": 8,
     "metadata": {},
     "output_type": "execute_result"
    }
   ],
   "source": [
    "df_monkland = pd.DataFrame({'Date' : dates,\n",
    "                   'Name' : names,\n",
    "                   'Review' : reviews,\n",
    "                   'Rating' : ratings}\n",
    "                 ) \n",
    "df_monkland"
   ]
  },
  {
   "cell_type": "code",
   "execution_count": 9,
   "metadata": {},
   "outputs": [],
   "source": [
    "df_monkland.to_csv('Monkland.csv', index=False, encoding='utf-8')"
   ]
  },
  {
   "cell_type": "code",
   "execution_count": null,
   "metadata": {},
   "outputs": [],
   "source": []
  }
 ],
 "metadata": {
  "kernelspec": {
   "display_name": "Python 3",
   "language": "python",
   "name": "python3"
  },
  "language_info": {
   "codemirror_mode": {
    "name": "ipython",
    "version": 3
   },
   "file_extension": ".py",
   "mimetype": "text/x-python",
   "name": "python",
   "nbconvert_exporter": "python",
   "pygments_lexer": "ipython3",
   "version": "3.8.5"
  }
 },
 "nbformat": 4,
 "nbformat_minor": 4
}
