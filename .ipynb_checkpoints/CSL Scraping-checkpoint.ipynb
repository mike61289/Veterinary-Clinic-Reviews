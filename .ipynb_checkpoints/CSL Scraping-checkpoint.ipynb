{
 "cells": [
  {
   "cell_type": "code",
   "execution_count": 1,
   "metadata": {},
   "outputs": [],
   "source": [
    "#https://towardsdatascience.com/scraping-google-maps-reviews-in-python-2b153c655fc2\n",
    "\n",
    "from selenium import webdriver\n",
    "from selenium.webdriver.common.by import By\n",
    "from selenium.webdriver.support.ui import WebDriverWait\n",
    "from selenium.webdriver.support import expected_conditions as EC\n",
    "from selenium.webdriver.chrome.options import Options\n",
    "from selenium.webdriver.common.action_chains import ActionChains\n",
    "import time\n",
    "from bs4 import BeautifulSoup\n",
    "import pandas as pd"
   ]
  },
  {
   "cell_type": "code",
   "execution_count": 2,
   "metadata": {},
   "outputs": [],
   "source": [
    "#Initialize webdriver\n",
    "options = Options()\n",
    "options.add_argument('--lang=en')\n",
    "driver = webdriver.Chrome('/Users/Coding/Downloads/chromedriver')"
   ]
  },
  {
   "cell_type": "code",
   "execution_count": 3,
   "metadata": {},
   "outputs": [],
   "source": [
    "csl = 'https://www.google.com/maps/place/Côte+St+Luc+Hospital+For+Animals/@45.4600837,-73.6656987,17z/data=!3m1!4b1!4m5!3m4!1s0x4cc91719f2f2c391:0x7dd33853c5192f78!8m2!3d45.4600924!4d-73.6635323'\n",
    "driver.get(csl)"
   ]
  },
  {
   "cell_type": "code",
   "execution_count": 4,
   "metadata": {},
   "outputs": [],
   "source": [
    "response = BeautifulSoup(driver.page_source, 'html.parser')\n",
    "rlist = response.find_all('div', class_='mapsConsumerUiSubviewSectionReview__section-review-content')"
   ]
  },
  {
   "cell_type": "code",
   "execution_count": 5,
   "metadata": {},
   "outputs": [],
   "source": [
    "content = driver.page_source"
   ]
  },
  {
   "cell_type": "code",
   "execution_count": 6,
   "metadata": {},
   "outputs": [],
   "source": [
    "dates = []\n",
    "names = []\n",
    "reviews = []\n",
    "ratings = []\n",
    "\n",
    "soup = BeautifulSoup(content)"
   ]
  },
  {
   "cell_type": "code",
   "execution_count": 7,
   "metadata": {},
   "outputs": [],
   "source": [
    "for r in rlist:\n",
    "    rel_date = r.find('span', class_='section-review-publish-date').text\n",
    "    name = r.find('div', class_='section-review-title').find('span').text\n",
    "    try:\n",
    "        review_text = r.find('span', class_='section-review-text').text\n",
    "    except Exception:\n",
    "        review_text = None\n",
    "    stars = r.find('span', class_='section-review-stars')['aria-label']\n",
    "    dates.append(rel_date)\n",
    "    names.append(name)\n",
    "    reviews.append(review_text)\n",
    "    ratings.append(stars)"
   ]
  },
  {
   "cell_type": "code",
   "execution_count": 8,
   "metadata": {},
   "outputs": [
    {
     "data": {
      "text/html": [
       "<div>\n",
       "<style scoped>\n",
       "    .dataframe tbody tr th:only-of-type {\n",
       "        vertical-align: middle;\n",
       "    }\n",
       "\n",
       "    .dataframe tbody tr th {\n",
       "        vertical-align: top;\n",
       "    }\n",
       "\n",
       "    .dataframe thead th {\n",
       "        text-align: right;\n",
       "    }\n",
       "</style>\n",
       "<table border=\"1\" class=\"dataframe\">\n",
       "  <thead>\n",
       "    <tr style=\"text-align: right;\">\n",
       "      <th></th>\n",
       "      <th>Date</th>\n",
       "      <th>Name</th>\n",
       "      <th>Review</th>\n",
       "      <th>Rating</th>\n",
       "    </tr>\n",
       "  </thead>\n",
       "  <tbody>\n",
       "    <tr>\n",
       "      <th>0</th>\n",
       "      <td>a month ago</td>\n",
       "      <td>Catherine Daigneault</td>\n",
       "      <td>(Translated by Google) The vet was very friend...</td>\n",
       "      <td>4 stars</td>\n",
       "    </tr>\n",
       "    <tr>\n",
       "      <th>1</th>\n",
       "      <td>a month ago</td>\n",
       "      <td>gilles paquette</td>\n",
       "      <td></td>\n",
       "      <td>4 stars</td>\n",
       "    </tr>\n",
       "    <tr>\n",
       "      <th>2</th>\n",
       "      <td>a month ago</td>\n",
       "      <td>Sherika Duncan</td>\n",
       "      <td>Great hospital for my little doggies. Friendly...</td>\n",
       "      <td>5 stars</td>\n",
       "    </tr>\n",
       "    <tr>\n",
       "      <th>3</th>\n",
       "      <td>2 months ago</td>\n",
       "      <td>susan montgrain</td>\n",
       "      <td>They were very efficient and called a taxi for...</td>\n",
       "      <td>5 stars</td>\n",
       "    </tr>\n",
       "    <tr>\n",
       "      <th>4</th>\n",
       "      <td>3 months ago</td>\n",
       "      <td>Maya D.</td>\n",
       "      <td></td>\n",
       "      <td>5 stars</td>\n",
       "    </tr>\n",
       "    <tr>\n",
       "      <th>...</th>\n",
       "      <td>...</td>\n",
       "      <td>...</td>\n",
       "      <td>...</td>\n",
       "      <td>...</td>\n",
       "    </tr>\n",
       "    <tr>\n",
       "      <th>98</th>\n",
       "      <td>4 years ago</td>\n",
       "      <td>User Name</td>\n",
       "      <td>Toke an appointment still waited over an hour ...</td>\n",
       "      <td>1 star</td>\n",
       "    </tr>\n",
       "    <tr>\n",
       "      <th>99</th>\n",
       "      <td>5 years ago</td>\n",
       "      <td>Spaghetti Sandwich</td>\n",
       "      <td>This clinic is the best. They are honest and c...</td>\n",
       "      <td>5 stars</td>\n",
       "    </tr>\n",
       "    <tr>\n",
       "      <th>100</th>\n",
       "      <td>6 years ago</td>\n",
       "      <td>Florent Gatore</td>\n",
       "      <td></td>\n",
       "      <td>5 stars</td>\n",
       "    </tr>\n",
       "    <tr>\n",
       "      <th>101</th>\n",
       "      <td>7 years ago</td>\n",
       "      <td>john ben</td>\n",
       "      <td>Best Vets in the City ,thank you for all you do .</td>\n",
       "      <td>5 stars</td>\n",
       "    </tr>\n",
       "    <tr>\n",
       "      <th>102</th>\n",
       "      <td>8 years ago</td>\n",
       "      <td>Evelyne at CulturEatz</td>\n",
       "      <td>I have no idea why no one has written a review...</td>\n",
       "      <td>5 stars</td>\n",
       "    </tr>\n",
       "  </tbody>\n",
       "</table>\n",
       "<p>103 rows × 4 columns</p>\n",
       "</div>"
      ],
      "text/plain": [
       "             Date                   Name  \\\n",
       "0     a month ago   Catherine Daigneault   \n",
       "1     a month ago        gilles paquette   \n",
       "2     a month ago         Sherika Duncan   \n",
       "3    2 months ago        susan montgrain   \n",
       "4    3 months ago                Maya D.   \n",
       "..            ...                    ...   \n",
       "98    4 years ago              User Name   \n",
       "99    5 years ago     Spaghetti Sandwich   \n",
       "100   6 years ago         Florent Gatore   \n",
       "101   7 years ago               john ben   \n",
       "102   8 years ago  Evelyne at CulturEatz   \n",
       "\n",
       "                                                Review     Rating  \n",
       "0    (Translated by Google) The vet was very friend...   4 stars   \n",
       "1                                                        4 stars   \n",
       "2    Great hospital for my little doggies. Friendly...   5 stars   \n",
       "3    They were very efficient and called a taxi for...   5 stars   \n",
       "4                                                        5 stars   \n",
       "..                                                 ...        ...  \n",
       "98   Toke an appointment still waited over an hour ...    1 star   \n",
       "99   This clinic is the best. They are honest and c...   5 stars   \n",
       "100                                                      5 stars   \n",
       "101  Best Vets in the City ,thank you for all you do .   5 stars   \n",
       "102  I have no idea why no one has written a review...   5 stars   \n",
       "\n",
       "[103 rows x 4 columns]"
      ]
     },
     "execution_count": 8,
     "metadata": {},
     "output_type": "execute_result"
    }
   ],
   "source": [
    "df_csl = pd.DataFrame({'Date' : dates,\n",
    "                   'Name' : names,\n",
    "                   'Review' : reviews,\n",
    "                   'Rating' : ratings}\n",
    "                 ) \n",
    "df_csl"
   ]
  },
  {
   "cell_type": "code",
   "execution_count": 9,
   "metadata": {},
   "outputs": [],
   "source": [
    "df_csl.to_csv('CSL.csv', index=False, encoding='utf-8')"
   ]
  },
  {
   "cell_type": "code",
   "execution_count": null,
   "metadata": {},
   "outputs": [],
   "source": []
  },
  {
   "cell_type": "code",
   "execution_count": null,
   "metadata": {},
   "outputs": [],
   "source": []
  }
 ],
 "metadata": {
  "kernelspec": {
   "display_name": "Python 3",
   "language": "python",
   "name": "python3"
  },
  "language_info": {
   "codemirror_mode": {
    "name": "ipython",
    "version": 3
   },
   "file_extension": ".py",
   "mimetype": "text/x-python",
   "name": "python",
   "nbconvert_exporter": "python",
   "pygments_lexer": "ipython3",
   "version": "3.8.5"
  }
 },
 "nbformat": 4,
 "nbformat_minor": 4
}
