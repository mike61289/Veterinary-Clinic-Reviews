{
 "cells": [
  {
   "cell_type": "code",
   "execution_count": 1,
   "metadata": {},
   "outputs": [],
   "source": [
    "#https://towardsdatascience.com/scraping-google-maps-reviews-in-python-2b153c655fc2\n",
    "\n",
    "from selenium import webdriver\n",
    "from selenium.webdriver.common.by import By\n",
    "from selenium.webdriver.support.ui import WebDriverWait\n",
    "from selenium.webdriver.support import expected_conditions as EC\n",
    "from selenium.webdriver.chrome.options import Options\n",
    "from selenium.webdriver.common.action_chains import ActionChains\n",
    "import time\n",
    "from bs4 import BeautifulSoup\n",
    "import pandas as pd"
   ]
  },
  {
   "cell_type": "code",
   "execution_count": 2,
   "metadata": {},
   "outputs": [],
   "source": [
    "#Initialize webdriver\n",
    "options = Options()\n",
    "options.add_argument('--lang=en')\n",
    "driver = webdriver.Chrome('/Users/Coding/Downloads/chromedriver')"
   ]
  },
  {
   "cell_type": "code",
   "execution_count": 3,
   "metadata": {},
   "outputs": [],
   "source": [
    "ahc = 'https://www.google.com/maps/place/The+Animal+Health+Clinic%2F+La+Clinique+de+Santé+Animale/@45.471625,-73.6164027,17z/data=!4m7!3m6!1s0x4cc910b0552ac3a3:0x61de5c2ac4a8eb1d!8m2!3d45.4716579!4d-73.6141462!9m1!1b1'\n",
    "driver.get(ahc)"
   ]
  },
  {
   "cell_type": "code",
   "execution_count": 4,
   "metadata": {},
   "outputs": [],
   "source": [
    "response = BeautifulSoup(driver.page_source, 'html.parser')\n",
    "rlist = response.find_all('div', class_='mapsConsumerUiSubviewSectionReview__section-review-content')"
   ]
  },
  {
   "cell_type": "code",
   "execution_count": 5,
   "metadata": {},
   "outputs": [],
   "source": [
    "content = driver.page_source"
   ]
  },
  {
   "cell_type": "code",
   "execution_count": 6,
   "metadata": {},
   "outputs": [],
   "source": [
    "dates = []\n",
    "names = []\n",
    "reviews = []\n",
    "ratings = []\n",
    "\n",
    "soup = BeautifulSoup(content)"
   ]
  },
  {
   "cell_type": "code",
   "execution_count": 7,
   "metadata": {},
   "outputs": [],
   "source": [
    "for r in rlist:\n",
    "    rel_date = r.find('span', class_='section-review-publish-date').text\n",
    "    name = r.find('div', class_='section-review-title').find('span').text\n",
    "    try:\n",
    "        review_text = r.find('span', class_='section-review-text').text\n",
    "    except Exception:\n",
    "        review_text = None\n",
    "    stars = r.find('span', class_='section-review-stars')['aria-label']\n",
    "    dates.append(rel_date)\n",
    "    names.append(name)\n",
    "    reviews.append(review_text)\n",
    "    ratings.append(stars)"
   ]
  },
  {
   "cell_type": "code",
   "execution_count": 9,
   "metadata": {},
   "outputs": [
    {
     "data": {
      "text/html": [
       "<div>\n",
       "<style scoped>\n",
       "    .dataframe tbody tr th:only-of-type {\n",
       "        vertical-align: middle;\n",
       "    }\n",
       "\n",
       "    .dataframe tbody tr th {\n",
       "        vertical-align: top;\n",
       "    }\n",
       "\n",
       "    .dataframe thead th {\n",
       "        text-align: right;\n",
       "    }\n",
       "</style>\n",
       "<table border=\"1\" class=\"dataframe\">\n",
       "  <thead>\n",
       "    <tr style=\"text-align: right;\">\n",
       "      <th></th>\n",
       "      <th>Date</th>\n",
       "      <th>Name</th>\n",
       "      <th>Review</th>\n",
       "      <th>Rating</th>\n",
       "    </tr>\n",
       "  </thead>\n",
       "  <tbody>\n",
       "    <tr>\n",
       "      <th>0</th>\n",
       "      <td>3 days ago</td>\n",
       "      <td>Neda S. Abbasi</td>\n",
       "      <td>For us The Animal Health Clinic is the most tr...</td>\n",
       "      <td>5 stars</td>\n",
       "    </tr>\n",
       "    <tr>\n",
       "      <th>1</th>\n",
       "      <td>6 days ago</td>\n",
       "      <td>Marie-Ève Saucier</td>\n",
       "      <td>J'ai pas réussi à me faire servir le trio File...</td>\n",
       "      <td>5 stars</td>\n",
       "    </tr>\n",
       "    <tr>\n",
       "      <th>2</th>\n",
       "      <td>6 days ago</td>\n",
       "      <td>Dan Raileanu</td>\n",
       "      <td></td>\n",
       "      <td>5 stars</td>\n",
       "    </tr>\n",
       "    <tr>\n",
       "      <th>3</th>\n",
       "      <td>a week ago</td>\n",
       "      <td>Nathalie Berube</td>\n",
       "      <td>Ma Bella a reçu les meilleurs soins a cette cl...</td>\n",
       "      <td>5 stars</td>\n",
       "    </tr>\n",
       "    <tr>\n",
       "      <th>4</th>\n",
       "      <td>a week ago</td>\n",
       "      <td>Andrew Schartmann</td>\n",
       "      <td>AVOID THIS PLACE AT ALL COSTS. Seriously. They...</td>\n",
       "      <td>1 star</td>\n",
       "    </tr>\n",
       "    <tr>\n",
       "      <th>...</th>\n",
       "      <td>...</td>\n",
       "      <td>...</td>\n",
       "      <td>...</td>\n",
       "      <td>...</td>\n",
       "    </tr>\n",
       "    <tr>\n",
       "      <th>473</th>\n",
       "      <td>7 years ago</td>\n",
       "      <td>Liv L</td>\n",
       "      <td>I have been this clinic 4-5 times and with all...</td>\n",
       "      <td>2 stars</td>\n",
       "    </tr>\n",
       "    <tr>\n",
       "      <th>474</th>\n",
       "      <td>7 years ago</td>\n",
       "      <td>chloe rousseau</td>\n",
       "      <td>i had an amazing experience . the vet that hel...</td>\n",
       "      <td>5 stars</td>\n",
       "    </tr>\n",
       "    <tr>\n",
       "      <th>475</th>\n",
       "      <td>8 years ago</td>\n",
       "      <td>Stephanie Russell</td>\n",
       "      <td>I took my 8 year old cat to the Animal Health ...</td>\n",
       "      <td>5 stars</td>\n",
       "    </tr>\n",
       "    <tr>\n",
       "      <th>476</th>\n",
       "      <td>8 years ago</td>\n",
       "      <td>sandra joan</td>\n",
       "      <td>i absolutely love this place,u can tell they r...</td>\n",
       "      <td>5 stars</td>\n",
       "    </tr>\n",
       "    <tr>\n",
       "      <th>477</th>\n",
       "      <td>9 years ago</td>\n",
       "      <td>Anika Cote</td>\n",
       "      <td></td>\n",
       "      <td>4 stars</td>\n",
       "    </tr>\n",
       "  </tbody>\n",
       "</table>\n",
       "<p>478 rows × 4 columns</p>\n",
       "</div>"
      ],
      "text/plain": [
       "            Date               Name  \\\n",
       "0     3 days ago     Neda S. Abbasi   \n",
       "1     6 days ago  Marie-Ève Saucier   \n",
       "2     6 days ago       Dan Raileanu   \n",
       "3     a week ago    Nathalie Berube   \n",
       "4     a week ago  Andrew Schartmann   \n",
       "..           ...                ...   \n",
       "473  7 years ago              Liv L   \n",
       "474  7 years ago     chloe rousseau   \n",
       "475  8 years ago  Stephanie Russell   \n",
       "476  8 years ago        sandra joan   \n",
       "477  9 years ago         Anika Cote   \n",
       "\n",
       "                                                Review     Rating  \n",
       "0    For us The Animal Health Clinic is the most tr...   5 stars   \n",
       "1    J'ai pas réussi à me faire servir le trio File...   5 stars   \n",
       "2                                                        5 stars   \n",
       "3    Ma Bella a reçu les meilleurs soins a cette cl...   5 stars   \n",
       "4    AVOID THIS PLACE AT ALL COSTS. Seriously. They...    1 star   \n",
       "..                                                 ...        ...  \n",
       "473  I have been this clinic 4-5 times and with all...   2 stars   \n",
       "474  i had an amazing experience . the vet that hel...   5 stars   \n",
       "475  I took my 8 year old cat to the Animal Health ...   5 stars   \n",
       "476  i absolutely love this place,u can tell they r...   5 stars   \n",
       "477                                                      4 stars   \n",
       "\n",
       "[478 rows x 4 columns]"
      ]
     },
     "execution_count": 9,
     "metadata": {},
     "output_type": "execute_result"
    }
   ],
   "source": [
    "df_ahc = pd.DataFrame({'Date' : dates,\n",
    "                   'Name' : names,\n",
    "                   'Review' : reviews,\n",
    "                   'Rating' : ratings}\n",
    "                 ) \n",
    "df_ahc"
   ]
  },
  {
   "cell_type": "code",
   "execution_count": 11,
   "metadata": {},
   "outputs": [],
   "source": [
    "df_ahc.to_csv('Animal Health Clinic.csv', index=False, encoding='utf-8')"
   ]
  },
  {
   "cell_type": "code",
   "execution_count": null,
   "metadata": {},
   "outputs": [],
   "source": []
  }
 ],
 "metadata": {
  "kernelspec": {
   "display_name": "Python 3",
   "language": "python",
   "name": "python3"
  },
  "language_info": {
   "codemirror_mode": {
    "name": "ipython",
    "version": 3
   },
   "file_extension": ".py",
   "mimetype": "text/x-python",
   "name": "python",
   "nbconvert_exporter": "python",
   "pygments_lexer": "ipython3",
   "version": "3.8.5"
  }
 },
 "nbformat": 4,
 "nbformat_minor": 4
}
