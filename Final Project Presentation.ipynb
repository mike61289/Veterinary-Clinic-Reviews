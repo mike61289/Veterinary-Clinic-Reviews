{
 "cells": [
  {
   "cell_type": "code",
   "execution_count": 1,
   "id": "668e4917",
   "metadata": {},
   "outputs": [],
   "source": [
    "import dash\n",
    "import dash_core_components as dcc\n",
    "import dash_html_components as html\n",
    "import pandas as pd\n",
    "from jupyter_dash import JupyterDash\n",
    "import base64"
   ]
  },
  {
   "cell_type": "code",
   "execution_count": 2,
   "id": "3b10216b",
   "metadata": {},
   "outputs": [],
   "source": [
    "hvoe = pd.read_csv('hvoe.csv')\n",
    "\n",
    "mo = pd.read_csv('Montreal Ouest.csv')\n",
    "\n",
    "passi = pd.read_csv('Passionimo.csv')\n",
    "\n",
    "monkland = pd.read_csv('Monkland.csv')\n",
    "\n",
    "csl = pd.read_csv('CSL.csv')\n",
    "\n",
    "ahc = pd.read_csv('Animal Health Clinic.csv')\n",
    "\n",
    "combined = pd.concat((hvoe, mo, passi, monkland, csl, ahc))"
   ]
  },
  {
   "cell_type": "code",
   "execution_count": 3,
   "id": "a85e78fc",
   "metadata": {},
   "outputs": [],
   "source": [
    "def generate_dataframe(dataframe, max_rows = 10):\n",
    "    return html.Table([\n",
    "        html.Thead(\n",
    "            html.Tr([html.Th(col) for col in dataframe.columns])\n",
    "        ),\n",
    "        html.Tbody([\n",
    "            html.Tr([\n",
    "                html.Td(dataframe.iloc[i][col]) for col in dataframe.columns\n",
    "            ]) for i in range(min(len(dataframe), max_rows))\n",
    "        ])\n",
    "    ])"
   ]
  },
  {
   "cell_type": "code",
   "execution_count": 4,
   "id": "2bc51d4d",
   "metadata": {},
   "outputs": [],
   "source": [
    "hvoe_nlp_text = '''\n",
    "### HVOE NLP\n",
    "\n",
    "After cleaning up the dataframe, the elbow method was done to establish that 3 is the best number of clusters.\n",
    "Through TFIDF, training the data, and logisitic regression, I was able to achieve a highest accuracy score of 82%.\n",
    "'''"
   ]
  },
  {
   "cell_type": "code",
   "execution_count": 5,
   "id": "7503083d",
   "metadata": {},
   "outputs": [],
   "source": [
    "combined_nlp_text = '''\n",
    "### Surrounding Vet Clinics NLP\n",
    "\n",
    "After cleaning up the dataframe, the elbow method was done to establish that 3 is (again) the best number of clusters.\n",
    "Through TFIDF, training the data, and logisitic regression, I was able to achieve a highest accuracy score of 80%.\n",
    "'''"
   ]
  },
  {
   "cell_type": "code",
   "execution_count": 6,
   "id": "6ab13726",
   "metadata": {},
   "outputs": [],
   "source": [
    "shap_text = '''\n",
    "### Shapley Dataframes Summary\n",
    "\n",
    "Specific words were chosen and the ratings associated with those words were written into dataframes for both the\n",
    "Bird and Exotic Animal Hospital and for the vet clinics in the surrounding area.\n",
    "One issue with these dataframes is that some words were said more often than others. To properly remove the \n",
    "Nans without removing data and without changing the results of the data, the average of words were taken individually\n",
    "and the Nans were replaced with the mean rating associated with those words.\n",
    "'''"
   ]
  },
  {
   "cell_type": "code",
   "execution_count": 7,
   "id": "faabc495",
   "metadata": {},
   "outputs": [],
   "source": [
    "hvoe_shap = pd.read_csv('HVOE Shapley.csv')\n",
    "hvoe_shap = hvoe_shap.drop('Clinic', axis = 1)\n",
    "combined_shap = pd.read_csv('Combined Shapley.csv')"
   ]
  },
  {
   "cell_type": "code",
   "execution_count": 8,
   "id": "91610b13",
   "metadata": {},
   "outputs": [],
   "source": [
    "#Graphs\n",
    "\n",
    "hvoe_elbow = 'Elbow.png'\n",
    "encoded_elbow = base64.b64encode(open(hvoe_elbow, 'rb').read()).decode()\n",
    "\n",
    "hvoe_bar_shap = 'HVOE Bar Shap.png'\n",
    "encoded_hvoe_bar_shap = base64.b64encode(open(hvoe_bar_shap, 'rb').read()).decode()\n",
    "\n",
    "hvoe_shap_png = 'HVOE Shap.png'\n",
    "encoded_hvoe_shap = base64.b64encode(open(hvoe_shap_png, 'rb').read()).decode()\n",
    "\n",
    "combined_bar_shap = 'Combined Bar Shap.png'\n",
    "encoded_combined_bar_shap = base64.b64encode(open(combined_bar_shap, 'rb').read()).decode()\n",
    "\n",
    "combined_shap_png = 'Combined Shap.png'\n",
    "encoded_combined_shap = base64.b64encode(open(combined_shap_png, 'rb').read()).decode()"
   ]
  },
  {
   "cell_type": "code",
   "execution_count": 9,
   "id": "c4e4effc",
   "metadata": {},
   "outputs": [],
   "source": [
    "external_stylesheets = ['https://codepen.io/chriddyp/pen/bWLwgP.css']\n",
    "\n",
    "app = dash.Dash(__name__, external_stylesheets = external_stylesheets)"
   ]
  },
  {
   "cell_type": "code",
   "execution_count": 10,
   "id": "10755e3b",
   "metadata": {},
   "outputs": [
    {
     "output_type": "stream",
     "name": "stdout",
     "text": [
      "Dash is running on http://127.0.0.1:8050/\n",
      "\n",
      " * Serving Flask app \"__main__\" (lazy loading)\n",
      " * Environment: production\n",
      "\u001b[31m   WARNING: This is a development server. Do not use it in a production deployment.\u001b[0m\n",
      "\u001b[2m   Use a production WSGI server instead.\u001b[0m\n",
      " * Debug mode: on\n"
     ]
    },
    {
     "output_type": "error",
     "ename": "SystemExit",
     "evalue": "2",
     "traceback": [
      "An exception has occurred, use %tb to see the full traceback.\n",
      "\u001b[0;31mSystemExit\u001b[0m\u001b[0;31m:\u001b[0m 2\n"
     ]
    }
   ],
   "source": [
    "app.layout = html.Div([\n",
    "    \n",
    "    html.H1('Analysis of the Google Reviews of Vet Clinics',\n",
    "           style = {'text-align' : 'center'}),\n",
    "    \n",
    "    html.Div(children='''\n",
    "        Bird and Exotic Animal Hospital: Average rating = 4.5\n",
    "    ''', style={\n",
    "            'textAlign': 'center'}),\n",
    "    \n",
    "    generate_dataframe(hvoe),\n",
    "    \n",
    "    html.Img(src='data:image/png;base64,{}'.format(encoded_elbow)),\n",
    "    \n",
    "    dcc.Markdown(children = hvoe_nlp_text, style={\n",
    "            'textAlign': 'center'}),\n",
    "    \n",
    "    html.Div(children='''\n",
    "        Ratings of Vet Clinics in Surrounding Area: Average rating = 4.5\n",
    "    ''', style={\n",
    "            'textAlign': 'center', 'marginTop': '2em'}),\n",
    "    \n",
    "    generate_dataframe(combined),\n",
    "    \n",
    "    html.Img(src='data:image/png;base64,{}'.format(encoded_elbow)),\n",
    "    \n",
    "    dcc.Markdown(children = combined_nlp_text, style={\n",
    "            'textAlign': 'center'}),\n",
    "    \n",
    "     html.Div(children='''\n",
    "        Words and Associated Ratings at the Bird and Exotic Animal Hospital\n",
    "    ''', style={\n",
    "            'textAlign': 'center', 'marginTop': '2em'}),\n",
    "    \n",
    "    generate_dataframe(hvoe_shap),\n",
    "    \n",
    "    html.Img(src='data:image/png;base64,{}'.format(encoded_hvoe_bar_shap)),\n",
    "    \n",
    "    html.Img(src='data:image/png;base64,{}'.format(encoded_hvoe_shap)),\n",
    "    \n",
    "     html.Div(children='''\n",
    "        Words and Associated Ratings at the Clinics in the Surrounding Area\n",
    "    ''', style={\n",
    "            'textAlign': 'center', 'marginTop': '2em'}),\n",
    "    \n",
    "    generate_dataframe(combined_shap),\n",
    "    \n",
    "    html.Img(src='data:image/png;base64,{}'.format(encoded_combined_bar_shap)),\n",
    "    \n",
    "    html.Img(src='data:image/png;base64,{}'.format(encoded_combined_shap)),\n",
    "    \n",
    "    dcc.Markdown(children = shap_text, style={\n",
    "            'textAlign': 'center'}),\n",
    "])\n",
    "\n",
    "if __name__ == '__main__':\n",
    "    app.run_server(debug = True)"
   ]
  },
  {
   "cell_type": "code",
   "execution_count": null,
   "id": "1ba6acdc",
   "metadata": {},
   "outputs": [],
   "source": []
  }
 ],
 "metadata": {
  "kernelspec": {
   "name": "python385jvsc74a57bd078f706bb7eb8ac22cceb1437830538f11ab172a11eecdb62e2e882ae3bb5f2dc",
   "display_name": "Python 3.8.5 64-bit (conda)"
  },
  "language_info": {
   "codemirror_mode": {
    "name": "ipython",
    "version": 3
   },
   "file_extension": ".py",
   "mimetype": "text/x-python",
   "name": "python",
   "nbconvert_exporter": "python",
   "pygments_lexer": "ipython3",
   "version": "3.8.5"
  }
 },
 "nbformat": 4,
 "nbformat_minor": 5
}